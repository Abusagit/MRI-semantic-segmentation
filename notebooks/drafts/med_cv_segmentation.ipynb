{
 "cells": [
  {
   "cell_type": "code",
   "execution_count": 1,
   "metadata": {},
   "outputs": [
    {
     "data": {
      "text/plain": [
       "True"
      ]
     },
     "execution_count": 1,
     "metadata": {},
     "output_type": "execute_result"
    }
   ],
   "source": [
    "import torch\n",
    "from torch import nn\n",
    "import os\n",
    "\n",
    "\n",
    "from pathlib import Path\n",
    "import torchvision\n",
    "import torchvision.transforms as T\n",
    "from typing import Sequence\n",
    "from torchvision.transforms import functional as F\n",
    "import numbers\n",
    "import random\n",
    "import numpy as np\n",
    "from PIL import Image\n",
    "from matplotlib import pyplot as plt\n",
    "import torchmetrics as TM\n",
    "\n",
    "from typing import Optional\n",
    "\n",
    "from torch.utils.data import Dataset\n",
    "\n",
    "# Convert a pytorch tensor into a PIL image\n",
    "t2img = T.ToPILImage()\n",
    "# Convert a PIL image into a pytorch tensor\n",
    "img2t = T.ToTensor()\n",
    "\n",
    "# Set the working (writable) directory.\n",
    "working_dir = Path(\"/home/fvelikon/projects/mri_cv/data/processed_data_split\")\n",
    "\n",
    "torch.cuda.is_available()"
   ]
  },
  {
   "cell_type": "code",
   "execution_count": 2,
   "metadata": {},
   "outputs": [
    {
     "name": "stdout",
     "output_type": "stream",
     "text": [
      "CUDA: True\n"
     ]
    }
   ],
   "source": [
    "def save_model_checkpoint(model, cp_name):\n",
    "    torch.save(model.state_dict(), os.path.join(working_dir, cp_name))\n",
    " \n",
    "def get_device():\n",
    "    if torch.cuda.is_available():\n",
    "        return torch.device(\"cuda\")\n",
    "    else:\n",
    "        return torch.device(\"cpu\")\n",
    "\n",
    "# Load model from saved checkpoint\n",
    "def load_model_from_checkpoint(model, ckp_path):\n",
    "    return model.load_state_dict(\n",
    "        torch.load(\n",
    "            ckp_path,\n",
    "            map_location=get_device(),\n",
    "        )\n",
    "    )\n",
    "\n",
    "# Send the Tensor or Model (input argument x) to the right device\n",
    "# for this notebook. i.e. if GPU is enabled, then send to GPU/CUDA\n",
    "# otherwise send to CPU.\n",
    "def to_device(x):\n",
    "    if torch.cuda.is_available():\n",
    "        return x.cuda()\n",
    "    else:\n",
    "        return x.cpu()\n",
    "    \n",
    "def get_model_parameters(m):\n",
    "    total_params = sum(\n",
    "        param.numel() for param in m.parameters()\n",
    "    )\n",
    "    return total_params\n",
    "\n",
    "def print_model_parameters(m):\n",
    "    num_model_parameters = get_model_parameters(m)\n",
    "    print(f\"The Model has {num_model_parameters/1e6:.2f}M parameters\")\n",
    "# end if\n",
    "\n",
    "def close_figures():\n",
    "    while len(plt.get_fignums()) > 0:\n",
    "        plt.close()\n",
    "    # end while\n",
    "# end def\n",
    "\n",
    "# Validation: Check if CUDA is available\n",
    "print(f\"CUDA: {torch.cuda.is_available()}\")"
   ]
  },
  {
   "cell_type": "code",
   "execution_count": 3,
   "metadata": {},
   "outputs": [],
   "source": [
    "class MRIDataset(Dataset):\n",
    "    \n",
    "    def __init__(self, root: Path, split_mode: str, \n",
    "                 transform: Optional[T.Compose]=None, \n",
    "                 target_transform: Optional[T.Compose]=None) -> None:\n",
    "        super().__init__()\n",
    "        \n",
    "        self.split_dir = root / split_mode\n",
    "        \n",
    "        self._filenames = list(sorted([path.name for path in self.split_dir.glob(\"*.pt\")]))\n",
    "        \n",
    "        self.transform = transform\n",
    "        self.target_transform = target_transform\n",
    "        \n",
    "    def __len__(self) -> int:\n",
    "        \n",
    "        return len(self.files)\n",
    "    \n",
    "    def __getitem__(self, index) -> tuple[torch.Tensor, torch.Tensor]:\n",
    "        \n",
    "        filename = self._filenames[index]\n",
    "        \n",
    "        image_and_mask_tensor: torch.Tensor = torch.load(self.split_dir / filename)\n",
    "        \n",
    "        image, mask = image_and_mask_tensor\n",
    "        \n",
    "        return image, mask"
   ]
  },
  {
   "cell_type": "code",
   "execution_count": 4,
   "metadata": {},
   "outputs": [],
   "source": [
    "train_ds = MRIDataset(root=working_dir, split_mode=\"train\")\n",
    "test_ds = MRIDataset(root=working_dir, split_mode=\"test\")\n",
    "eval_ds = MRIDataset(root=working_dir, split_mode=\"eval\")"
   ]
  },
  {
   "cell_type": "code",
   "execution_count": 5,
   "metadata": {},
   "outputs": [],
   "source": []
  },
  {
   "cell_type": "code",
   "execution_count": 32,
   "metadata": {},
   "outputs": [
    {
     "data": {
      "text/plain": [
       "(torch.Size([397, 772]), torch.Size([397, 772]))"
      ]
     },
     "execution_count": 32,
     "metadata": {},
     "output_type": "execute_result"
    }
   ],
   "source": [
    "train_image_example, train_mask_example = train_ds[100]\n",
    "both = torch.stack([train_image_example, train_mask_example], dim=0)\n",
    "x, = torch.split(both, 2)\n",
    "# x.shape, y.shape\n",
    "y, z = x\n",
    "y.shape, z.shape"
   ]
  },
  {
   "cell_type": "code",
   "execution_count": 24,
   "metadata": {},
   "outputs": [
    {
     "data": {
      "text/plain": [
       "(torch.Size([397, 768]), torch.Size([397, 768]))"
      ]
     },
     "execution_count": 24,
     "metadata": {},
     "output_type": "execute_result"
    }
   ],
   "source": []
  },
  {
   "cell_type": "markdown",
   "metadata": {},
   "source": [
    "# Bimap Legend\n",
    "\n",
    "<div style=\"font-size: 20px;\">\n",
    "After subtracting 1 from pixel value.\n",
    "\n",
    "* 1 = Bone structure (segmentation target)\n",
    "* 0 = Background pixel\n",
    "</div>"
   ]
  },
  {
   "cell_type": "code",
   "execution_count": 20,
   "metadata": {},
   "outputs": [],
   "source": [
    "from enum import IntEnum\n",
    "class BimapClasses(IntEnum):\n",
    "    BONE = 1\n",
    "    BACKGROUND = 0"
   ]
  },
  {
   "cell_type": "code",
   "execution_count": 21,
   "metadata": {},
   "outputs": [
    {
     "data": {
      "image/png": "[encoded data removed]",
      "text/plain": [
       "<PIL.Image.Image image mode=L size=768x397>"
      ]
     },
     "execution_count": 21,
     "metadata": {},
     "output_type": "execute_result"
    }
   ],
   "source": [
    "# Spot check a segmentation mask image after post-processing it\n",
    "t2img(train_mask_example)"
   ]
  },
  {
   "cell_type": "code",
   "execution_count": 22,
   "metadata": {},
   "outputs": [],
   "source": [
    "# Simple torchvision compatible transform to send an input tensor\n",
    "# to a pre-specified device.\n",
    "class ToDevice(torch.nn.Module):\n",
    "    \"\"\"\n",
    "    Sends the input object to the device specified in the\n",
    "    object's constructor by calling .to(device) on the object.\n",
    "    \"\"\"\n",
    "    def __init__(self, device):\n",
    "        super().__init__()\n",
    "        self.device = device\n",
    "\n",
    "    def forward(self, img):\n",
    "        return img.to(self.device)\n",
    "\n",
    "    def __repr__(self) -> str:\n",
    "        return f\"{self.__class__.__name__}(device={self.device})\"\n"
   ]
  },
  {
   "cell_type": "code",
   "execution_count": null,
   "metadata": {},
   "outputs": [],
   "source": [
    "# Create a dataset wrapper that allows us to perform custom image augmentations\n",
    "# on both the target and label (segmentation mask) images.\n",
    "#\n",
    "# These custom image augmentations are needed since we want to perform\n",
    "# transforms such as:\n",
    "# 1. Random horizontal flip\n",
    "# 2. Image resize\n",
    "#\n",
    "# and these operations need to be applied consistently to both the input\n",
    "# image as well as the segmentation mask.\n",
    "class MRIDatasetAugmented(MRIDataset):\n",
    "    def __init__(\n",
    "        self,\n",
    "        root: Path,\n",
    "        split_mode: str,\n",
    "        target_types=\"segmentation\",\n",
    "        download=False,\n",
    "        pre_transform=None,\n",
    "        post_transform=None,\n",
    "        pre_target_transform=None,\n",
    "        post_target_transform=None,\n",
    "        common_transform=None,\n",
    "    ):\n",
    "        super().__init__(\n",
    "            root=root,\n",
    "            split_mode=split_mode,\n",
    "            target_types=target_types,\n",
    "            # download=download,\n",
    "            transform=pre_transform,\n",
    "            target_transform=pre_target_transform,\n",
    "        )\n",
    "        self.post_transform = post_transform\n",
    "        self.post_target_transform = post_target_transform\n",
    "        self.common_transform = common_transform\n",
    "\n",
    "    def __len__(self):\n",
    "        return super().__len__()\n",
    "\n",
    "    def __getitem__(self, idx):\n",
    "        (input, target) = super().__getitem__(idx)\n",
    "        \n",
    "        # Common transforms are performed on both the input and the labels\n",
    "        # by creating a 4 channel image and running the transform on both.\n",
    "        # Then the segmentation mask (4th channel) is separated out.\n",
    "        if self.common_transform is not None:\n",
    "            both = torch.stack([input, target], dim=0)\n",
    "            both = self.common_transform(both)\n",
    "            (input, target) = torch.split(both, 2, dim=0)\n",
    "        # end if\n",
    "        \n",
    "        if self.post_transform is not None:\n",
    "            input = self.post_transform(input)\n",
    "        if self.post_target_transform is not None:\n",
    "            target = self.post_target_transform(target)\n",
    "\n",
    "        return (input, target)"
   ]
  }
 ],
 "metadata": {
  "kernelspec": {
   "display_name": "ml",
   "language": "python",
   "name": "python3"
  },
  "language_info": {
   "codemirror_mode": {
    "name": "ipython",
    "version": 3
   },
   "file_extension": ".py",
   "mimetype": "text/x-python",
   "name": "python",
   "nbconvert_exporter": "python",
   "pygments_lexer": "ipython3",
   "version": "3.10.9"
  },
  "orig_nbformat": 4
 },
 "nbformat": 4,
 "nbformat_minor": 2
}
